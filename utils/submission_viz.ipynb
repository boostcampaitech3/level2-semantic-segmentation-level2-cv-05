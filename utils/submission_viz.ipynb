{
 "cells": [
  {
   "cell_type": "code",
   "execution_count": 2,
   "metadata": {},
   "outputs": [],
   "source": [
    "import csv\n",
    "import pandas as pd\n",
    "from PIL import Image\n",
    "import numpy as np\n",
    "\n",
    "import matplotlib.pyplot as plt\n",
    "import cv2\n",
    "\n",
    "from ipywidgets import interact\n"
   ]
  },
  {
   "cell_type": "code",
   "execution_count": 15,
   "metadata": {},
   "outputs": [
    {
     "name": "stdout",
     "output_type": "stream",
     "text": [
      "Index(['image_id', 'PredictionString'], dtype='object')\n",
      "submission length: 624\n",
      "image_id sample: batch_01_vt/0021.jpg\n",
      "Prediction String is Too Long to make samples. Please Look below taps\n"
     ]
    }
   ],
   "source": [
    "SUBMISSION_PATH = './work_dirs/ocrnet/submission_latest.csv'        # csv file path\n",
    "DATA_ROOT = '/opt/ml/input/data'                                    # data path\n",
    "submission = pd.read_csv(SUBMISSION_PATH)\n",
    "\n",
    "\n",
    "# print submission info\n",
    "print(submission.keys())\n",
    "print(f'submission length: {len(submission)}' )\n",
    "if len(submission) != 624:\n",
    "    raise AssertionError(\"Number of Test Images Not 624. Please Check 'test.json' When used making submission\")\n",
    "id = submission['image_id'][0]\n",
    "print('image_id sample: ' + id)\n",
    "print('Prediction String is Too Long to make samples. Please Look below taps')"
   ]
  },
  {
   "cell_type": "code",
   "execution_count": 16,
   "metadata": {},
   "outputs": [
    {
     "data": {
      "application/vnd.jupyter.widget-view+json": {
       "model_id": "3f0c21edc15943dd89e460083407eb01",
       "version_major": 2,
       "version_minor": 0
      },
      "text/plain": [
       "interactive(children=(IntSlider(value=0, description='idx', max=623), Output()), _dom_classes=('widget-interac…"
      ]
     },
     "metadata": {},
     "output_type": "display_data"
    }
   ],
   "source": [
    "@interact(idx=(0, len(submission)-1), size=(15, 50), cls_id=(0, 11))\n",
    "def showImg(idx = 0):\n",
    "    path = DATA_ROOT + '/' + submission['image_id'][idx]\n",
    "    mask = submission['PredictionString'][idx].split(\" \")\n",
    "    fa = np.array(mask, dtype='float')\n",
    "    rfa = fa.reshape(256, 256)\n",
    "    image = cv2.imread(path)\n",
    "    fig, axes = plt.subplots(nrows=1, ncols=2, figsize=(12, 12))\n",
    "    axes[0].imshow(image)\n",
    "    axes[1].imshow(rfa)"
   ]
  },
  {
   "cell_type": "code",
   "execution_count": null,
   "metadata": {},
   "outputs": [],
   "source": []
  }
 ],
 "metadata": {
  "interpreter": {
   "hash": "c31e71a5e498f0aaae29fa2d4fcce91b7642bc45d7bb4c98f573abb4911baaab"
  },
  "kernelspec": {
   "display_name": "Python 3.8.13 ('mmseg')",
   "language": "python",
   "name": "python3"
  },
  "language_info": {
   "codemirror_mode": {
    "name": "ipython",
    "version": 3
   },
   "file_extension": ".py",
   "mimetype": "text/x-python",
   "name": "python",
   "nbconvert_exporter": "python",
   "pygments_lexer": "ipython3",
   "version": "3.8.13"
  },
  "orig_nbformat": 4
 },
 "nbformat": 4,
 "nbformat_minor": 2
}
